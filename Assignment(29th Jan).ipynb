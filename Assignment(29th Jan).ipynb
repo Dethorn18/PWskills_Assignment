{
 "cells": [
  {
   "cell_type": "markdown",
   "id": "993cebe1-9306-4855-a986-46966dc8b6a3",
   "metadata": {},
   "source": [
    "#### 1. Who developed Python Programming language?"
   ]
  },
  {
   "cell_type": "markdown",
   "id": "2b12eed4-3a91-463e-8e50-a7c9a524a77c",
   "metadata": {},
   "source": [
    "Python Programming Language was developed by Guido van Rossum in 1991."
   ]
  },
  {
   "cell_type": "markdown",
   "id": "3de53fe5-195b-40bd-812e-75f8706ec6a9",
   "metadata": {},
   "source": [
    "#### 2. Which type of Programming does Python support?"
   ]
  },
  {
   "cell_type": "markdown",
   "id": "016712eb-920e-4520-b61d-c3270ab15ed7",
   "metadata": {},
   "source": [
    "High-level programming with dynamic semantics is supported by Python."
   ]
  },
  {
   "cell_type": "markdown",
   "id": "943e5a0d-a026-4453-8111-05aa4391752c",
   "metadata": {},
   "source": [
    "#### 3. Is Python case sensitive when dealing with identifiers?"
   ]
  },
  {
   "cell_type": "markdown",
   "id": "a4341100-3d14-488c-8fa7-2423c2ed0ae9",
   "metadata": {},
   "source": [
    "Yes, Python is case sensitive when dealing with the identifiers. For Example:- \"Aditya\", \"aditya\", \"ADITYA\" are other identifiers in Python as uppercase and lowercase letters in identifiers is a different entities>"
   ]
  },
  {
   "cell_type": "markdown",
   "id": "caae7313-9a6f-422d-8b38-e509ae9bf67e",
   "metadata": {},
   "source": [
    "#### 4. What is the correct extension of the python file?"
   ]
  },
  {
   "cell_type": "markdown",
   "id": "c5a29da7-4c37-4641-9308-bdad2eac76cc",
   "metadata": {},
   "source": [
    "The correct extension of the python file is .py."
   ]
  },
  {
   "cell_type": "markdown",
   "id": "c238644d-8f9b-4f00-879a-90ea6226508b",
   "metadata": {},
   "source": [
    "#### 5. Is python code compiled or interpreted?"
   ]
  },
  {
   "cell_type": "markdown",
   "id": "563e91a5-6b49-4c31-a058-4b5967db7bdd",
   "metadata": {},
   "source": [
    "Python code is interpreted."
   ]
  },
  {
   "cell_type": "markdown",
   "id": "a81b3774-57a9-41fd-a13b-d626f190940e",
   "metadata": {},
   "source": [
    "#### 6. Name a few block of code used to define in python language?"
   ]
  },
  {
   "cell_type": "markdown",
   "id": "4548c006-0c33-4c3f-9efe-7bf058b1a080",
   "metadata": {},
   "source": [
    "Few block of code used to define in python language are:-\n",
    "a) Function Block\n",
    "b) Class Block\n",
    "c) Conditional Block\n",
    "d) Loop Block"
   ]
  },
  {
   "cell_type": "markdown",
   "id": "a0bffad9-ce57-465f-8b08-9f8d4fefaadc",
   "metadata": {},
   "source": [
    "#### 7. State a character used to give single-line comments in Python?"
   ]
  },
  {
   "cell_type": "markdown",
   "id": "82bcc567-91a4-4068-9beb-c054bd1cd400",
   "metadata": {},
   "source": [
    "Hash symbol(#) is a character to give single-line comments in python."
   ]
  },
  {
   "cell_type": "markdown",
   "id": "283b6c00-78a5-4d3c-880b-f2b87caa2089",
   "metadata": {},
   "source": [
    "#### 8. Mention function which can help us to find the version of python that we are currently working on?"
   ]
  },
  {
   "cell_type": "markdown",
   "id": "2257b7b5-87dc-480b-9245-e11e6ae00e01",
   "metadata": {},
   "source": [
    "In python, we use 'sys' function to know about the version we are currently workimg on."
   ]
  },
  {
   "cell_type": "markdown",
   "id": "84b69ba3-f2a1-4d45-ab20-d88c466b9525",
   "metadata": {},
   "source": [
    "#### 9. Python supports the creation of anonymous function at runtime, using a construct called________"
   ]
  },
  {
   "cell_type": "markdown",
   "id": "579d6458-42dc-44c7-a50a-a4d35a00ee90",
   "metadata": {},
   "source": [
    "Lambda"
   ]
  },
  {
   "cell_type": "markdown",
   "id": "4bc8046b-4462-4937-987f-5f922168af7f",
   "metadata": {},
   "source": [
    "#### 10. What does pip stand for in python?"
   ]
  },
  {
   "cell_type": "markdown",
   "id": "61ff1ee3-78a5-4a0a-8f23-49462803201b",
   "metadata": {},
   "source": [
    "Pip Installs Packages"
   ]
  },
  {
   "cell_type": "markdown",
   "id": "ba7427f6-a8e4-47b1-9dd8-394c821ce05c",
   "metadata": {},
   "source": [
    "#### 11. Mention a few built in functions in python?"
   ]
  },
  {
   "cell_type": "markdown",
   "id": "6233d6ca-29b0-4ab0-b929-97ecccfcbf14",
   "metadata": {},
   "source": [
    "print(), len(), input(), str(), int(), float(), type(), etc are some of the few built-in functions in python."
   ]
  },
  {
   "cell_type": "markdown",
   "id": "eb13d182-a205-46c6-9d06-ff2be01189ac",
   "metadata": {},
   "source": [
    "#### 12. What is the maximum possible length of an identifier in python?"
   ]
  },
  {
   "cell_type": "markdown",
   "id": "e562fa9a-ddf0-4f95-b25d-bec10587d6e5",
   "metadata": {},
   "source": [
    "The maximum possible length of an identifier in python is 79 characters."
   ]
  },
  {
   "cell_type": "markdown",
   "id": "a7f7f0c6-7bab-4aa5-9f37-93b1f0a5a6d2",
   "metadata": {},
   "source": [
    "#### 13. What are the benefits of using python?"
   ]
  },
  {
   "cell_type": "markdown",
   "id": "d91b0dfd-9348-47b8-b867-de0be041de28",
   "metadata": {},
   "source": [
    "The benefits of using python are:-\n",
    "a) More than 1,37,000 libraries\n",
    "b) Free and open-source\n",
    "c) High-Level Language\n",
    "d) Embeddable\n",
    "e) Robust\n",
    "f) Object-Oriented Lnguage\n",
    "g) Extemsible feature\n",
    "h) Easy to Debug"
   ]
  },
  {
   "cell_type": "markdown",
   "id": "15ee33aa-d278-44ea-81b2-7d8bfabd1da7",
   "metadata": {},
   "source": [
    "#### 14. How is memory managed in python?"
   ]
  },
  {
   "cell_type": "markdown",
   "id": "969fbcbe-18a9-4f79-90ac-adeb559d91a3",
   "metadata": {},
   "source": [
    "Memory is managed in python by interpreter itself, using a technique called automatic memory management or garbage collection."
   ]
  },
  {
   "cell_type": "markdown",
   "id": "78fb0881-9fe8-4f76-8660-fc7de9a02017",
   "metadata": {},
   "source": [
    "#### 15. How to install Python on windows and set path variable?"
   ]
  },
  {
   "cell_type": "markdown",
   "id": "423bd7d0-8636-4141-aa7e-b9c8d6843d80",
   "metadata": {},
   "source": [
    "Here are the steps to install Python on Windows and set the path variable:\n",
    "1) Download Python: Go to the official Python website at www.python.org/downloads/ and download the latest version of Python for Windows.\n",
    "2) Run the installer: Once the download is complete, run the installer by double-clicking on the downloaded file.\n",
    "3) Choose installation options: Follow the installation wizard and choose the installation options you want. The default options should be fine for most users.\n",
    "4)Set path variable: After the installation is complete, you need to set the path variable for Python. The path variable tells the operating system where to find the Python executable files.\n",
    "\n",
    "To set the path variable, follow these steps:\n",
    "a. Open the Windows Start menu and search for \"Environment Variables\" and select \"Edit the system environment variables\".\n",
    "b. Click on the \"Environment Variables\" button at the bottom of the \"Advanced\" tab.\n",
    "c. Under \"System Variables\", scroll down until you find the \"Path\" variable and click on \"Edit\".\n",
    "d. Click on \"New\" and enter the path to the \"Scripts\" folder of your Python installation, typically \"C:\\PythonXX\\Scripts\" (replace \"XX\" with the version of Python you installed).\n",
    "e. Click \"OK\" on all open windows to save the changes.\n",
    "\n",
    "5)Verify the installation: To verify that Python is installed correctly, open a command prompt and type \"python --version\". This should display the version of Python that you installed."
   ]
  },
  {
   "cell_type": "markdown",
   "id": "884c616a-2c3f-4c5d-a87a-1f01f81fcf1c",
   "metadata": {},
   "source": [
    "#### 16. Is indentation required in python?"
   ]
  },
  {
   "cell_type": "markdown",
   "id": "4478cc60-fec3-4644-b856-0d506bc664ce",
   "metadata": {},
   "source": [
    "Yes, indentation is required in Python. Python uses indentation to indicate the scope of statements in a block of code."
   ]
  }
 ],
 "metadata": {
  "kernelspec": {
   "display_name": "Python 3 (ipykernel)",
   "language": "python",
   "name": "python3"
  },
  "language_info": {
   "codemirror_mode": {
    "name": "ipython",
    "version": 3
   },
   "file_extension": ".py",
   "mimetype": "text/x-python",
   "name": "python",
   "nbconvert_exporter": "python",
   "pygments_lexer": "ipython3",
   "version": "3.10.8"
  }
 },
 "nbformat": 4,
 "nbformat_minor": 5
}
