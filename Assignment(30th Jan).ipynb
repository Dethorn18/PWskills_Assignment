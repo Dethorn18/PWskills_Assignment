{
 "cells": [
  {
   "cell_type": "markdown",
   "id": "c7caf775-8e48-4703-aa1f-069ec066fd4c",
   "metadata": {},
   "source": [
    "Q1. WAP to accept percentage"
   ]
  },
  {
   "cell_type": "code",
   "execution_count": 3,
   "id": "c8ce5f48-1902-46eb-8f49-479a301d5de4",
   "metadata": {},
   "outputs": [
    {
     "name": "stdin",
     "output_type": "stream",
     "text": [
      "Enter the percentage: 97\n"
     ]
    },
    {
     "name": "stdout",
     "output_type": "stream",
     "text": [
      "Grade A\n"
     ]
    }
   ],
   "source": [
    "num= int(input(\"Enter the percentage:\"))\n",
    "if num<=100 and num>90:\n",
    "    print(\"Grade A\")\n",
    "elif num<=90 and num>80:\n",
    "    print(\"Grade B\")\n",
    "elif num<=80 and num>60:\n",
    "    print(\"Grade C\")\n",
    "elif num<=60 and num>0:\n",
    "    print(\"Grade D\")\n",
    "else:\n",
    "    print(\"Invalid Input\")"
   ]
  },
  {
   "cell_type": "markdown",
   "id": "ecc6df22-2a96-448a-84bb-edba1ba32711",
   "metadata": {},
   "source": [
    "Q2. WAP to accept the cost price of a bike and show road tax"
   ]
  },
  {
   "cell_type": "code",
   "execution_count": null,
   "id": "e761691c-addf-4d7c-81b5-a3e5b9e8a7b6",
   "metadata": {},
   "outputs": [
    {
     "name": "stdin",
     "output_type": "stream",
     "text": [
      "Enter the cost of a bike: 154700\n"
     ]
    },
    {
     "name": "stdout",
     "output_type": "stream",
     "text": [
      "Tax will be 15% i.e 23205.0\n"
     ]
    }
   ],
   "source": [
    "bike = int(input(\"Enter the cost of a bike:\"))\n",
    "if bike>100000:\n",
    "    tax=15/100*bike\n",
    "    print(f\"Tax will be 15% i.e {tax}\")\n",
    "elif bike<=100000 and bike>50000:\n",
    "    tax=10/100*bike\n",
    "    print(f\"Tax will be 10% i.e {tax}\")\n",
    "elif bike<=50000:\n",
    "    tax=5/100*bike\n",
    "    print(f\"Tax will be 5% i.e {tax}\")\n",
    "else:\n",
    "    print(\"Invalid Input\")"
   ]
  },
  {
   "cell_type": "markdown",
   "id": "c913396e-a3f8-4171-b2c3-fac187d05916",
   "metadata": {},
   "source": [
    "Q3. WAP to accept any city from user and display monuments"
   ]
  },
  {
   "cell_type": "code",
   "execution_count": 16,
   "id": "cad65e46-ea71-4358-ad10-e2ed1227c346",
   "metadata": {},
   "outputs": [
    {
     "name": "stdin",
     "output_type": "stream",
     "text": [
      "Enter name of a city: Agra\n"
     ]
    },
    {
     "name": "stdout",
     "output_type": "stream",
     "text": [
      "The monument is Taj Mahal.\n"
     ]
    }
   ],
   "source": [
    "city=input(\"Enter name of a city:\")\n",
    "if city==\"Delhi\":\n",
    "    print(\"The monument is Red Fort.\")\n",
    "elif city==\"Agra\":\n",
    "    print(\"The monument is Taj Mahal.\")\n",
    "elif city==\"Jaipur\":\n",
    "    print(\"The monument is Jal Mahal.\")\n",
    "else:\n",
    "    print(\"Invalid Input\")"
   ]
  },
  {
   "cell_type": "markdown",
   "id": "6cb84fa0-0697-46ab-bee3-4325869cc3df",
   "metadata": {},
   "source": [
    "Q4. WAP to check that how many time a given number is divide by 3 before it is less than or equal to 10"
   ]
  },
  {
   "cell_type": "code",
   "execution_count": 17,
   "id": "7e9d2ca6-9a96-4f7e-9b92-5a80e74cdf30",
   "metadata": {},
   "outputs": [
    {
     "name": "stdin",
     "output_type": "stream",
     "text": [
      "Enter any number: 1500\n"
     ]
    },
    {
     "name": "stdout",
     "output_type": "stream",
     "text": [
      "1500 is devided 4 times \n"
     ]
    }
   ],
   "source": [
    "num=int(input(\"Enter any number:\"))\n",
    "og_num=num\n",
    "count=-1\n",
    "while num>10:\n",
    "    num=num/3\n",
    "    count+=1\n",
    "print(f\"{og_num} is devided {count} times \")"
   ]
  },
  {
   "cell_type": "markdown",
   "id": "b1669c2a-09b8-453c-a2e8-da2b2606489d",
   "metadata": {},
   "source": [
    "Q5. Why and when to use while loop in python give example."
   ]
  },
  {
   "cell_type": "markdown",
   "id": "ac096425-9be2-49a3-afe9-139cc4d0db7e",
   "metadata": {},
   "source": [
    "A while loop in Python is used when you want to repeatedly execute a block of code as long as a specified condition is true. The loop continues iterating until the condition evaluates to False. Simply, when we want to run a piece of code multipule times or we want to perform same thing again and again we can use while loop."
   ]
  },
  {
   "cell_type": "markdown",
   "id": "5c51282c-16ba-483d-9ae7-61388160784e",
   "metadata": {},
   "source": [
    "Example:-"
   ]
  },
  {
   "cell_type": "code",
   "execution_count": 24,
   "id": "2046ecb3-2c37-4c64-81cc-5c8847bc564e",
   "metadata": {},
   "outputs": [
    {
     "name": "stdout",
     "output_type": "stream",
     "text": [
      "1\n",
      "2\n",
      "3\n",
      "4\n",
      "5\n",
      "6\n",
      "7\n",
      "8\n"
     ]
    }
   ],
   "source": [
    "num = 1\n",
    "while num <= 8:\n",
    "    print(num)\n",
    "    num += 1"
   ]
  },
  {
   "cell_type": "markdown",
   "id": "1ee8b749-7d01-476b-a4a4-0c693d655fb3",
   "metadata": {},
   "source": [
    "Q6. WAP to use nested while loop to print 3 different pattern"
   ]
  },
  {
   "cell_type": "code",
   "execution_count": 27,
   "id": "09ac67c4-a0fb-4756-8dfc-238182a8b348",
   "metadata": {},
   "outputs": [
    {
     "name": "stdout",
     "output_type": "stream",
     "text": [
      "Pattern 1: Right-angled Triangle\n",
      "*\n",
      "**\n",
      "***\n",
      "****\n",
      "*****\n",
      "\n",
      "Pattern 2: Rectangle\n",
      "*****\n",
      "*****\n",
      "*****\n",
      "*****\n",
      "*****\n",
      "\n",
      "Pattern 3: Inverted Right-angled Triangle\n",
      "*****\n",
      "****\n",
      "***\n",
      "**\n",
      "*\n"
     ]
    }
   ],
   "source": [
    "# Pattern 1: Right-angled Triangle\n",
    "size = 5\n",
    "row = 1\n",
    "print(\"Pattern 1: Right-angled Triangle\")\n",
    "while row <= size:\n",
    "    col = 1\n",
    "    while col <= row:\n",
    "        print(\"*\", end=\"\")\n",
    "        col += 1\n",
    "    print()\n",
    "    row += 1\n",
    "\n",
    "# Pattern 2: Rectangle\n",
    "size = 5\n",
    "row = 1\n",
    "print(\"\\nPattern 2: Rectangle\")\n",
    "while row <= size:\n",
    "    col = 1\n",
    "    while col <= size:\n",
    "        print(\"*\", end=\"\")\n",
    "        col += 1\n",
    "    print()\n",
    "    row += 1\n",
    "\n",
    "# Pattern 3: Inverted Right-angled Triangle\n",
    "size = 5\n",
    "row = size\n",
    "print(\"\\nPattern 3: Inverted Right-angled Triangle\")\n",
    "while row >= 1:\n",
    "    col = 1\n",
    "    while col <= row:\n",
    "        print(\"*\", end=\"\")\n",
    "        col += 1\n",
    "    print()\n",
    "    row -= 1"
   ]
  },
  {
   "cell_type": "markdown",
   "id": "ca9116b5-a191-4706-8533-5fbcd6caf408",
   "metadata": {},
   "source": [
    "Q7. WAP to reverse a while loop to display numbers from 10 to 1."
   ]
  },
  {
   "cell_type": "code",
   "execution_count": 28,
   "id": "7496a0cf-7b5d-4c3c-85a2-7fd7236ad4b2",
   "metadata": {},
   "outputs": [
    {
     "name": "stdout",
     "output_type": "stream",
     "text": [
      "10\n",
      "9\n",
      "8\n",
      "7\n",
      "6\n",
      "5\n",
      "4\n",
      "3\n",
      "2\n",
      "1\n"
     ]
    }
   ],
   "source": [
    "i=10\n",
    "while i>0:\n",
    "    print(i)\n",
    "    i-=1"
   ]
  },
  {
   "cell_type": "code",
   "execution_count": null,
   "id": "fd9685f3-488e-45b7-a65f-0e529c0bd1e5",
   "metadata": {},
   "outputs": [],
   "source": [
    "Q8. WAP to reverse a while loop to display numbers from 10 to 1."
   ]
  },
  {
   "cell_type": "code",
   "execution_count": 29,
   "id": "ee87b5ee-7e47-4140-986c-bdb00a52839d",
   "metadata": {},
   "outputs": [
    {
     "name": "stdout",
     "output_type": "stream",
     "text": [
      "10\n",
      "9\n",
      "8\n",
      "7\n",
      "6\n",
      "5\n",
      "4\n",
      "3\n",
      "2\n",
      "1\n"
     ]
    }
   ],
   "source": [
    "i=10\n",
    "while i>0:\n",
    "    print(i)\n",
    "    i-=1"
   ]
  },
  {
   "cell_type": "code",
   "execution_count": null,
   "id": "e7ee9e49-b71c-4300-903c-063d946e5d0c",
   "metadata": {},
   "outputs": [],
   "source": []
  }
 ],
 "metadata": {
  "kernelspec": {
   "display_name": "Python 3 (ipykernel)",
   "language": "python",
   "name": "python3"
  },
  "language_info": {
   "codemirror_mode": {
    "name": "ipython",
    "version": 3
   },
   "file_extension": ".py",
   "mimetype": "text/x-python",
   "name": "python",
   "nbconvert_exporter": "python",
   "pygments_lexer": "ipython3",
   "version": "3.10.8"
  }
 },
 "nbformat": 4,
 "nbformat_minor": 5
}
